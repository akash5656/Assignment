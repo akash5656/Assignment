{
 "cells": [
  {
   "cell_type": "markdown",
   "metadata": {},
   "source": [
    " **1.Write a function to compute 5/0 and use try/except to catch the exceptions**"
   ]
  },
  {
   "cell_type": "code",
   "execution_count": 9,
   "metadata": {},
   "outputs": [
    {
     "name": "stdout",
     "output_type": "stream",
     "text": [
      "error found : division by zero\n",
      "\n",
      " result of 5/0 is None\n"
     ]
    }
   ],
   "source": [
    "def  divByZero(numerator,denominator):\n",
    "    try:\n",
    "        result = numerator/denominator\n",
    "    except Exception as e:\n",
    "        result = print(\"error found :\",e)\n",
    "        \n",
    "    return result\n",
    "\n",
    "numerator = 5\n",
    "denominator = 0\n",
    "res = divByZero(numerator,denominator)\n",
    "print(f\"\\n result of {numerator}/{denominator} is {res}\")"
   ]
  },
  {
   "cell_type": "markdown",
   "metadata": {},
   "source": [
    "**2.Implement a Python program to generate all sentences where subject is in [\"Americans\",\n",
    "\"Indians\"] and verb is in [\"Play\", \"watch\"] and the object is in [\"Baseball\",\"cricket\"].\n",
    "Hint: Subject,Verb and Object should be declared in the program as shown below.\n",
    "subjects=[\"Americans \",\"Indians\"]\n",
    "verbs=[\"play\",\"watch\"]\n",
    "objects=[\"Baseball\",\"Cricket\"]**\n",
    "\n",
    "**Output should come as below:**\n",
    "Americans play Baseball.\n",
    "\n",
    "Americans play Cricket.\n",
    "\n",
    "Americans watch Baseball.\n",
    "\n",
    "Americans watch Cricket.\n",
    "\n",
    "Indians play Baseball.\n",
    "\n",
    "Indians play Cricket.\n",
    "\n",
    "Indians watch Baseball.\n",
    "\n",
    "Indians watch Cricket."
   ]
  },
  {
   "cell_type": "code",
   "execution_count": 11,
   "metadata": {},
   "outputs": [
    {
     "name": "stdout",
     "output_type": "stream",
     "text": [
      "Americans  play Baseball\n",
      "Americans  play Cricket\n",
      "Americans  watch Baseball\n",
      "Americans  watch Cricket\n",
      "Indians play Baseball\n",
      "Indians play Cricket\n",
      "Indians watch Baseball\n",
      "Indians watch Cricket\n"
     ]
    }
   ],
   "source": [
    "subjects=[\"Americans \",\"Indians\"]\n",
    "verbs=[\"play\",\"watch\"]\n",
    "objects=[\"Baseball\",\"Cricket\"]\n",
    "\n",
    "for sub in subjects:\n",
    "    for veb in verbs:\n",
    "        for obj in objects:\n",
    "            print(f\"{sub} {veb} {obj}\")"
   ]
  },
  {
   "cell_type": "markdown",
   "metadata": {},
   "source": [
    "**Task 2:**\n",
    "\n",
    "**1.Write a function so that the columns of the output matrix are powers of the input vector.\n",
    "The order of the powers is determined by the increasing boolean argument. Specifically, when\n",
    "increasing is False, the i-th output column is the input vector raised element-wise to the power\n",
    "of N - i - 1.**\n",
    "HINT: Such a matrix with a geometric progression in each row is named for Alexandre-\n",
    "Theophile Vandermonde."
   ]
  },
  {
   "cell_type": "code",
   "execution_count": 13,
   "metadata": {},
   "outputs": [
    {
     "name": "stdout",
     "output_type": "stream",
     "text": [
      "Enter number of inputs you want to add : 4\n",
      "Enter a number : 1\n",
      "Enter a number : 2\n",
      "Enter a number : 3\n",
      "Enter a number : 4\n",
      "Enter the number of output sequence you want to see : 7\n",
      "[1, 1, 1, 1, 1, 1, 1]\n",
      "[64, 32, 16, 8, 4, 2, 1]\n",
      "[729, 243, 81, 27, 9, 3, 1]\n",
      "[4096, 1024, 256, 64, 16, 4, 1]\n"
     ]
    }
   ],
   "source": [
    "def getVanderMatrix(x, N=None, increasing=False):\n",
    "    '''Cusomt Vander matrix generator'''\n",
    "\n",
    "    # default condition if N is not given\n",
    "    if N is None:\n",
    "        N = len(x)\n",
    "        \n",
    "    matrix = []\n",
    "    # generating powers for each row based on N value in decreasing order\n",
    "    # which is a default case\n",
    "    pows = [(N-i-1) for N,i in zip([N]*N, range(N))]\n",
    "\n",
    "    # for increaing == True case\n",
    "    # reverse the pows array \n",
    "    if increasing:\n",
    "        pows = pows[::-1]\n",
    "\n",
    "    # iterate over x to generate and print each row\n",
    "    for ele in x:\n",
    "        row = [ele**pwr for pwr in pows] \n",
    "        print(row)\n",
    "        matrix.append(row)\n",
    "    return matrix\n",
    "\n",
    "inputVector = []\n",
    "count = int(input('Enter number of inputs you want to add : '))\n",
    "for i in range(count):\n",
    "    abc = int(input('Enter a number : '))\n",
    "    inputVector.append(abc)\n",
    "    \n",
    "\n",
    "no_of_ouput = int(input('Enter the number of output sequence you want to see : '))\n",
    "result = getVanderMatrix(x=inputVector, N=no_of_ouput, )"
   ]
  }
 ],
 "metadata": {
  "kernelspec": {
   "display_name": "Python 3",
   "language": "python",
   "name": "python3"
  },
  "language_info": {
   "codemirror_mode": {
    "name": "ipython",
    "version": 3
   },
   "file_extension": ".py",
   "mimetype": "text/x-python",
   "name": "python",
   "nbconvert_exporter": "python",
   "pygments_lexer": "ipython3",
   "version": "3.6.10"
  }
 },
 "nbformat": 4,
 "nbformat_minor": 4
}
